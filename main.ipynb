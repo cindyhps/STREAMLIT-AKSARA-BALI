{
 "cells": [
  {
   "cell_type": "markdown",
   "metadata": {},
   "source": [
    "Import Library"
   ]
  },
  {
   "cell_type": "code",
   "execution_count": null,
   "metadata": {},
   "outputs": [],
   "source": [
    "from PIL import Image\n",
    "import os\n",
    "import cv2\n",
    "from tqdm import tqdm\n",
    "import matplotlib.pyplot as plt\n",
    "import numpy as np"
   ]
  },
  {
   "cell_type": "markdown",
   "metadata": {},
   "source": [
    "1. Data Preprocessing"
   ]
  },
  {
   "cell_type": "code",
   "execution_count": null,
   "metadata": {},
   "outputs": [],
   "source": [
    "def zoom_out(image_path, zoom_factor):\n",
    "    # Ambil nama gambar\n",
    "    imgWithFormat = os.path.basename(image_path)\n",
    "    imgName = imgWithFormat.split(\".\")[0]\n",
    "    \n",
    "    # Buka gambar \n",
    "    original_image = Image.open(image_path)\n",
    "    original_width, original_height = original_image.size\n",
    "\n",
    "    # Hitung ukuran baru setelah diperbesar\n",
    "    new_width = int(original_width * zoom_factor)\n",
    "    new_height = int(original_height * zoom_factor)\n",
    "    \n",
    "    # Perbesar gambar menggunakan metode resampling lanczos\n",
    "    zoomed_out_image = original_image.resize((new_width, new_height), Image.LANCZOS)\n",
    "\n",
    "    # Buat latar belakang hitam dengan ukuran sesuai gambar asli\n",
    "    black_background = Image.new('RGB', (original_width, original_height), (0, 0, 0))\n",
    "\n",
    "    # Hitung posisi gambar yang diperbesar di tengah latar belakang hitam\n",
    "    x_offset = (original_width - new_width) // 2\n",
    "    y_offset = (original_height - new_height) // 2\n",
    "    \n",
    "    # Tempelkan gambar yang diperbesar ke latar belakang hitam\n",
    "    black_background.paste(zoomed_out_image, (x_offset, y_offset))\n",
    "\n",
    "    return black_background\n",
    "    \n",
    "def convert_to_binary(image : np.ndarray, threshold=128):\n",
    "    _, binary_image = cv2.threshold(image, threshold, 255, cv2.THRESH_BINARY)\n",
    "    \n",
    "    # # Ubah ke gambar grayscale\n",
    "    # image = cv2.cvtColor(binary_image, cv2.COLOR_BGR2GRAY)\n",
    "    \n",
    "    # Simpan gambar biner\n",
    "    return binary_image\n",
    "\n",
    "def resize_image(image : np.ndarray, px : int): \n",
    "    return cv2.resize(image, (px, px))\n"
   ]
  },
  {
   "cell_type": "markdown",
   "metadata": {},
   "source": [
    "2. Zoom Out semua Gambar"
   ]
  },
  {
   "cell_type": "code",
   "execution_count": null,
   "metadata": {},
   "outputs": [],
   "source": [
    "def zoom_out_image_in_folder(path): \n",
    "    zoom_images = []\n",
    "    \n",
    "    for folder_name in os.listdir(path): # Loop nama folder\n",
    "        folder_path = os.path.join(path, folder_name)\n",
    "        \n",
    "        for file_name in os.listdir(folder_path): \n",
    "            file_path = os.path.join(folder_path, file_name)\n",
    "            \n",
    "            zoom_factors = [0.5, 0.6, 0.7, 0.8, 0.9, 1]\n",
    "            \n",
    "            img_name = file_name.split('.')[0]\n",
    "            \n",
    "            for factor in zoom_factors:\n",
    "                # Lakukan zoom out\n",
    "                zoomed_image = zoom_out(file_path, factor)\n",
    "                \n",
    "                np_image = np.array(zoomed_image) \n",
    "                \n",
    "                 # Tambahkan nama folder sebagai target\n",
    "                image_list = {\n",
    "                    \"id\": folder_name,\n",
    "                    \"image\": np_image\n",
    "                }\n",
    "                \n",
    "                # Tambahkan gambar ke list\n",
    "                zoom_images.append(image_list)\n",
    "\n",
    "    return zoom_images\n",
    "\n",
    "for i in tqdm(range(100)):\n",
    "    zoomed_images = zoom_out_image_in_folder(\"dataset\")"
   ]
  },
  {
   "cell_type": "code",
   "execution_count": null,
   "metadata": {},
   "outputs": [],
   "source": [
    "# Ambil 5 gambar acak dari array zoomed_images\n",
    "random_items = np.random.choice(zoomed_images, size=5, replace=False)\n",
    "\n",
    "# Tampilkan 5 gambar acak menggunakan plt.imshow()\n",
    "for i, item in enumerate(random_items, start=1):\n",
    "    img_id = item[\"id\"]\n",
    "    img = item[\"image\"]\n",
    "    \n",
    "    # Tampilkan gambar menggunakan plt.imshow()\n",
    "    plt.subplot(1, 5, i)\n",
    "    plt.imshow(img)\n",
    "    plt.title(img_id)  # Tambahkan judul sesuai dengan nama folder\n",
    "    plt.axis('off')  # Matikan sumbu x dan y\n",
    "\n",
    "plt.tight_layout()\n",
    "plt.show()"
   ]
  },
  {
   "cell_type": "markdown",
   "metadata": {},
   "source": [
    "Resize Gambar "
   ]
  },
  {
   "cell_type": "code",
   "execution_count": null,
   "metadata": {},
   "outputs": [],
   "source": [
    "def resize_all_images(image : list):\n",
    "    resized_image = []\n",
    "    \n",
    "    pixel = 25\n",
    "    \n",
    "    for item in image: \n",
    "        image = resize_image(item[\"image\"], pixel)\n",
    "        \n",
    "        image_list = {\n",
    "            \"id\": item[\"id\"],\n",
    "            \"image\": image\n",
    "        }\n",
    "        \n",
    "        resized_image.append(image_list)\n",
    "    \n",
    "    return resized_image\n",
    "    \n",
    "resized_img = resize_all_images(zoomed_images)\n",
    "        \n",
    "random_items = np.random.choice(resized_img, size=5, replace=False)\n",
    "\n",
    "# Tampilkan 5 gambar acak menggunakan plt.imshow()\n",
    "for i, item in enumerate(random_items, start=1):\n",
    "    img_id = item[\"id\"]\n",
    "    img = item[\"image\"]\n",
    "    \n",
    "    # Tampilkan gambar menggunakan plt.imshow()\n",
    "    plt.subplot(1, 5, i)\n",
    "    plt.imshow(img)\n",
    "    plt.title(img_id)  # Tambahkan judul sesuai dengan nama folder\n",
    "    plt.axis('off')  # Matikan sumbu x dan y\n",
    "\n",
    "plt.tight_layout()\n",
    "plt.show()"
   ]
  },
  {
   "cell_type": "markdown",
   "metadata": {},
   "source": [
    "Ubah Semua Gambar ke Bentuk Biner"
   ]
  },
  {
   "cell_type": "code",
   "execution_count": null,
   "metadata": {},
   "outputs": [],
   "source": [
    "def binaried_all_images(image : list):\n",
    "    binary_image = []\n",
    "    \n",
    "    for item in image: \n",
    "        image = convert_to_binary(item[\"image\"], 80)\n",
    "        \n",
    "        image_list = {\n",
    "            \"id\": item[\"id\"],\n",
    "            \"image\": image\n",
    "        }\n",
    "        \n",
    "        binary_image.append(image_list)\n",
    "        \n",
    "    return binary_image\n",
    "\n",
    "binaried_image = binaried_all_images(resized_img)\n",
    "\n",
    "random_items = np.random.choice(binaried_image, size=5, replace=False)\n",
    "\n",
    "# Tampilkan 5 gambar acak menggunakan plt.imshow()\n",
    "for i, item in enumerate(random_items, start=1):\n",
    "    img_id = item[\"id\"]\n",
    "    img = item[\"image\"]\n",
    "    \n",
    "    # Tampilkan gambar menggunakan plt.imshow()\n",
    "    plt.subplot(1, 5, i)\n",
    "    plt.imshow(img)\n",
    "    plt.title(img_id)  # Tambahkan judul sesuai dengan nama folder\n",
    "    plt.axis('off')  # Matikan sumbu x dan y\n",
    "\n",
    "plt.tight_layout()\n",
    "plt.show()\n",
    "    "
   ]
  },
  {
   "cell_type": "markdown",
   "metadata": {},
   "source": [
    "Export Gambar Hasil Preprocessing"
   ]
  },
  {
   "cell_type": "code",
   "execution_count": null,
   "metadata": {},
   "outputs": [],
   "source": [
    "def save_image(item, index, dst_folder):\n",
    "    if not os.path.exists(dst_folder):\n",
    "        os.makedirs(dst_folder)\n",
    "    \n",
    "    img_id = item[\"id\"]\n",
    "    \n",
    "    # Konversi numpy image ke dalam format yang dapat dibaca OpenCV\n",
    "    image = cv2.cvtColor(item[\"image\"], cv2.COLOR_RGB2BGR)\n",
    "    \n",
    "    # Simpan gambar dalam format JPEG\n",
    "    cv2.imwrite(f'{dst_folder}/{img_id}_{str(index)}.jpg', image)\n",
    "\n",
    "for i in tqdm(range(100)):\n",
    "    for index, item in enumerate(binaried_image):\n",
    "        save_image(item, index, 'binary_image2')"
   ]
  },
  {
   "cell_type": "markdown",
   "metadata": {},
   "source": [
    "Ekstraksi Fitur Dengan HOG"
   ]
  },
  {
   "cell_type": "code",
   "execution_count": null,
   "metadata": {},
   "outputs": [],
   "source": [
    "def extract_hog_features(folder_path):\n",
    "    labels = []\n",
    "    features = []\n",
    "    \n",
    "    for filename in os.listdir(folder_path):\n",
    "        # Baca gambar biner\n",
    "        image_path = os.path.join(folder_path, filename)\n",
    "        \n",
    "        image = cv2.imread(image_path, cv2.IMREAD_GRAYSCALE)\n",
    "        \n",
    "        px = 5\n",
    "        # Hitung HOG descriptor\n",
    "        feature = hog(image, orientations=9, pixels_per_cell=(px, px),\n",
    "                      cells_per_block=(2, 2), block_norm='L2-Hys')\n",
    "        \n",
    "        label = filename.split(\"_\")[0]\n",
    "        \n",
    "        labels.append(label)\n",
    "        features.append(feature)\n",
    "        \n",
    "    return labels, features\n",
    "\n",
    "labels, features = extract_hog_features('binary_image2')\n",
    "\n",
    "print(f\"Label: {labels}\")\n",
    "print(f\"Jumlah Data: {len(labels)}\")\n",
    "print(f\"Feature: {features}\")\n",
    "        \n",
    "        \n",
    "\n"
   ]
  },
  {
   "cell_type": "markdown",
   "metadata": {},
   "source": [
    "Membagi Data Menjadi Data Latih dan Data Uji"
   ]
  },
  {
   "cell_type": "code",
   "execution_count": null,
   "metadata": {},
   "outputs": [],
   "source": [
    "from sklearn.model_selection import train_test_split\n",
    "\n",
    "# Membagi dataset menjadi data latih dan data uji\n",
    "X_train, X_test, y_train, y_test = train_test_split(features, labels, test_size=0.2, random_state=42)"
   ]
  },
  {
   "cell_type": "markdown",
   "metadata": {},
   "source": [
    "Classifier Menggunakan K-Nearest Neighbors (KNN)"
   ]
  },
  {
   "cell_type": "code",
   "execution_count": null,
   "metadata": {},
   "outputs": [],
   "source": [
    "from sklearn.neighbors import KNeighborsClassifier\n",
    "from sklearn.metrics import accuracy_score\n",
    "\n",
    "# Membuat model KNN\n",
    "knn_model = KNeighborsClassifier(n_neighbors=5)\n",
    "\n",
    "# Melatih model KNN\n",
    "knn_model.fit(X_train, y_train)\n",
    "\n",
    "# Melakukan prediksi menggunakan data uji\n",
    "y_pred = knn_model.predict(X_test)\n",
    "\n",
    "# Mengukur akurasi model\n",
    "accuracy = accuracy_score(y_test, y_pred)\n",
    "print(\"Akurasi model KNN:\", accuracy)\n"
   ]
  },
  {
   "cell_type": "markdown",
   "metadata": {},
   "source": [
    "Classifier Menggunakan Adabost"
   ]
  },
  {
   "cell_type": "code",
   "execution_count": null,
   "metadata": {},
   "outputs": [],
   "source": [
    "from sklearn.model_selection import train_test_split\n",
    "from sklearn.ensemble import AdaBoostClassifier\n",
    "from sklearn.metrics import accuracy_score\n",
    "\n",
    "# Membagi dataset menjadi data latih dan data uji\n",
    "X_train, X_test, y_train, y_test = train_test_split(features, labels, test_size=0.2, random_state=42)\n",
    "\n",
    "# Membuat model AdaBoost dengan DecisionTreeClassifier sebagai base estimator\n",
    "adaboost_model = AdaBoostClassifier(n_estimators=20, random_state=42)\n",
    "\n",
    "# Melatih model AdaBoost\n",
    "adaboost_model.fit(X_train, y_train)\n",
    "\n",
    "# Melakukan prediksi menggunakan data uji\n",
    "y_pred = adaboost_model.predict(X_test)\n",
    "\n",
    "# Mengukur akurasi model\n",
    "accuracy = accuracy_score(y_test, y_pred)\n",
    "print(\"Akurasi model AdaBoost:\", accuracy)\n"
   ]
  },
  {
   "cell_type": "markdown",
   "metadata": {},
   "source": [
    "Classifier Menggunakan Support Vector Machine (SVM) Kernel Linear"
   ]
  },
  {
   "cell_type": "code",
   "execution_count": null,
   "metadata": {},
   "outputs": [],
   "source": [
    "from sklearn.model_selection import cross_val_score\n",
    "from sklearn.svm import SVC\n",
    "from sklearn.metrics import accuracy_score\n",
    "\n",
    "# List nilai C yang akan diuji\n",
    "list_C = [1, 2, 3, 4, 5, 6, 7, 8, 9, 10]\n",
    "\n",
    "best_accuracy = 0\n",
    "best_C = None\n",
    "\n",
    "# Loop melalui setiap nilai C\n",
    "for C in list_C:\n",
    "    # Membuat model SVM dengan kernel linear dan nilai C tertentu\n",
    "    svm_linear = SVC(kernel='linear', C=C, random_state=42)\n",
    "    \n",
    "    # Melatih model SVM\n",
    "    svm_linear.fit(X_train, y_train)\n",
    "    \n",
    "    # Melakukan prediksi menggunakan data uji\n",
    "    y_pred = svm_linear.predict(X_test)\n",
    "    \n",
    "    # Mengukur akurasi model\n",
    "    accuracy = accuracy_score(y_test, y_pred)\n",
    "    \n",
    "    # Memperbarui akurasi tertinggi dan nilai C terbaik jika ditemukan akurasi yang lebih tinggi\n",
    "    if accuracy > best_accuracy:\n",
    "        best_accuracy = accuracy\n",
    "        best_C = C\n"
   ]
  },
  {
   "cell_type": "code",
   "execution_count": null,
   "metadata": {},
   "outputs": [],
   "source": [
    "print(f\"best_accuracy - best_C: {best_accuracy} - {best_C}\")"
   ]
  },
  {
   "cell_type": "code",
   "execution_count": null,
   "metadata": {},
   "outputs": [],
   "source": [
    "# Membuat model SVM\n",
    "svm_linear = SVC(kernel='linear', C=7, random_state=42)\n",
    "\n",
    "# Melatih model SVM\n",
    "svm_linear.fit(X_train, y_train)\n",
    "\n",
    "# Melakukan prediksi menggunakan data uji\n",
    "y_pred = svm_linear.predict(X_test)\n",
    "\n",
    "# Mengukur akurasi model\n",
    "accuracy = accuracy_score(y_test, y_pred)\n",
    "print(\"Akurasi model SVM dengan kernel linear:\", accuracy)"
   ]
  },
  {
   "cell_type": "markdown",
   "metadata": {},
   "source": [
    "Classifier Menggunakan Support Vector Machine (SVM) Kernel Polynomial"
   ]
  },
  {
   "cell_type": "code",
   "execution_count": null,
   "metadata": {},
   "outputs": [],
   "source": [
    "# List nilai C yang akan diuji\n",
    "list_degree = [1, 2, 3, 4, 5, 6, 7, 8, 9, 10]\n",
    "\n",
    "best_accuracy = 0\n",
    "best_degree = None\n",
    "\n",
    "# Loop melalui setiap nilai C\n",
    "for D in list_degree:\n",
    "    # Membuat model SVM dengan kernel polinomial\n",
    "    svm_poly = SVC(kernel='poly', degree=D)\n",
    "    \n",
    "    # Melatih model SVM dengan kernel polinomial\n",
    "    svm_poly.fit(X_train, y_train)\n",
    "\n",
    "    # Melakukan prediksi menggunakan data uji\n",
    "    y_pred_poly = svm_poly.predict(X_test)\n",
    "\n",
    "    # Mengukur akurasi model\n",
    "    accuracy = accuracy_score(y_test, y_pred_poly)\n",
    "    \n",
    "    # Memperbarui akurasi tertinggi dan nilai C terbaik jika ditemukan akurasi yang lebih tinggi\n",
    "    if accuracy > best_accuracy:\n",
    "        best_accuracy = accuracy\n",
    "        best_degree = D\n",
    "        \n",
    "    print(f\"best_accuracy :{best_accuracy}\\nbest_degree :{best_degree}\")"
   ]
  },
  {
   "cell_type": "code",
   "execution_count": null,
   "metadata": {},
   "outputs": [],
   "source": [
    "# Membuat model SVM dengan kernel polinomial\n",
    "svm_poly = SVC(kernel='poly', degree=4)\n",
    "\n",
    "# Melatih model SVM dengan kernel polinomial\n",
    "svm_poly.fit(X_train, y_train)\n",
    "\n",
    "# Melakukan prediksi menggunakan data uji\n",
    "y_pred_poly = svm_poly.predict(X_test)\n",
    "\n",
    "# Mengukur akurasi model\n",
    "accuracy_poly = accuracy_score(y_test, y_pred_poly)\n",
    "print(\"Akurasi model SVM dengan kernel polinomial:\", accuracy_poly)\n"
   ]
  },
  {
   "cell_type": "markdown",
   "metadata": {},
   "source": [
    "Classifier Menggunakan Support Vector Machine (SVM) Kernel RBF"
   ]
  },
  {
   "cell_type": "code",
   "execution_count": null,
   "metadata": {},
   "outputs": [],
   "source": [
    "# Membuat model SVM dengan kernel RBF\n",
    "svm_rbf = SVC(kernel='rbf')\n",
    "\n",
    "# Melatih model SVM dengan kernel RBF\n",
    "svm_rbf.fit(X_train, y_train)\n",
    "\n",
    "# Melakukan prediksi menggunakan data uji\n",
    "y_pred_rbf = svm_rbf.predict(X_test)\n",
    "\n",
    "# Mengukur akurasi model\n",
    "accuracy_rbf = accuracy_score(y_test, y_pred_rbf)\n",
    "print(\"Akurasi model SVM dengan kernel RBF:\", accuracy_rbf)"
   ]
  },
  {
   "cell_type": "markdown",
   "metadata": {},
   "source": [
    "Classifier Menggunakan Support Vector Machine (SVM) Kernel Sigmoid"
   ]
  },
  {
   "cell_type": "code",
   "execution_count": null,
   "metadata": {},
   "outputs": [],
   "source": [
    "# Membuat model SVM dengan kernel sigmoid\n",
    "svm_sigmoid = SVC(kernel='sigmoid')\n",
    "\n",
    "# Melatih model SVM dengan kernel sigmoid\n",
    "svm_sigmoid.fit(X_train, y_train)\n",
    "\n",
    "# Melakukan prediksi menggunakan data uji\n",
    "y_pred_sigmoid = svm_sigmoid.predict(X_test)\n",
    "\n",
    "# Mengukur akurasi model\n",
    "accuracy_sigmoid = accuracy_score(y_test, y_pred_sigmoid)\n",
    "print(\"Akurasi model SVM dengan kernel sigmoid:\", accuracy_sigmoid)"
   ]
  },
  {
   "cell_type": "code",
   "execution_count": null,
   "metadata": {},
   "outputs": [],
   "source": [
    "import joblib\n",
    "\n",
    "# # Menyimpan model KNN\n",
    "# joblib.dump(knn_model, 'model_knn.pkl')\n",
    "\n",
    "# # Menyimpan model SVM dengan kernel linear\n",
    "# joblib.dump(svm_linear, 'svm_linear.pkl')\n",
    "\n",
    "# Menyimpan model SVM dengan kernel polinomial\n",
    "joblib.dump(svm_poly, 'svm_poly.pkl')\n",
    "\n",
    "# # Menyimpan model SVM dengan kernel RBF\n",
    "# joblib.dump(svm_rbf, 'svm_rbf.pkl')\n",
    "\n",
    "# # Menyimpan model SVM dengan kernel sigmoid\n",
    "# joblib.dump(svm_sigmoid, 'svm_sigmoid.pkl')"
   ]
  }
 ],
 "metadata": {
  "kernelspec": {
   "display_name": "base",
   "language": "python",
   "name": "python3"
  },
  "language_info": {
   "codemirror_mode": {
    "name": "ipython",
    "version": 3
   },
   "file_extension": ".py",
   "mimetype": "text/x-python",
   "name": "python",
   "nbconvert_exporter": "python",
   "pygments_lexer": "ipython3",
   "version": "3.11.7"
  }
 },
 "nbformat": 4,
 "nbformat_minor": 2
}
